{
 "cells": [
  {
   "cell_type": "code",
   "execution_count": 52,
   "id": "068d4d9b",
   "metadata": {},
   "outputs": [],
   "source": [
    "import statsmodels.api as sm   \n",
    "from algorithm import GradientBoostingRegressor_TeamDisrupt\n",
    "from sklearn.model_selection import train_test_split\n",
    "from sklearn.metrics import confusion_matrix, accuracy_score\n",
    "from sklearn.metrics import mean_squared_error\n",
    "import pandas as pd\n",
    "import numpy as np\n",
    "import warnings\n",
    "warnings.filterwarnings(action='ignore')"
   ]
  },
  {
   "cell_type": "code",
   "execution_count": 53,
   "id": "317b85f1",
   "metadata": {},
   "outputs": [],
   "source": [
    "# Load data for regressor problem\n",
    "df = pd.read_csv(\"Deaths 85 yrs and above.csv\")\n",
    "for i in range(0,len(df.index)):\n",
    "    df.iloc[i,1]=i \n",
    "df = df.fillna(0)\n",
    "X = df.iloc[0:,:-1].values\n",
    "y = df.iloc[0:,-1].values\n",
    "X_train, X_test, y_train, y_test = train_test_split(X, y, test_size=0.1)\n"
   ]
  },
  {
   "cell_type": "code",
   "execution_count": 54,
   "id": "7f63c69b",
   "metadata": {},
   "outputs": [
    {
     "name": "stdout",
     "output_type": "stream",
     "text": [
      "[NOTICE] FIT 10-Weak Regressor\n",
      "[NOTICE] FIT 20-Weak Regressor\n",
      "[NOTICE] FIT 30-Weak Regressor\n",
      "[NOTICE] FIT 40-Weak Regressor\n",
      "[NOTICE] FIT 50-Weak Regressor\n",
      "[NOTICE] FIT 60-Weak Regressor\n",
      "[NOTICE] FIT 70-Weak Regressor\n",
      "[NOTICE] FIT 80-Weak Regressor\n",
      "[NOTICE] FIT 90-Weak Regressor\n",
      "[NOTICE] FIT 100-Weak Regressor\n",
      "[NOTICE] GRADIENT BOOST FIT FINISHED\n"
     ]
    }
   ],
   "source": [
    "\n",
    "# TEST OUR GRADIENT BOOST ALGORITHM, GradientBoostingRegressor_TeamDisrupt\n",
    "params = {'learning_rate':0.1, 'n_estimators':100, 'max_leaf_nodes':16, 'verbose':1}\n",
    "gbm = GradientBoostingRegressor_TeamDisrupt(params)\n",
    "gbm.fit(X_train, y_train)\n",
    "pred = gbm.predict(X_test)\n",
    "mse = mean_squared_error(y_test, pred)\n"
   ]
  },
  {
   "cell_type": "code",
   "execution_count": 55,
   "id": "e19a886d",
   "metadata": {},
   "outputs": [],
   "source": [
    "# TEST sklearn.ensemble.GradientBoostRegressor\n",
    "from sklearn.ensemble import GradientBoostingRegressor\n",
    "gbm_ = GradientBoostingRegressor(learning_rate=0.1, n_estimators=300, max_leaf_nodes=10)\n",
    "gbm_.fit(X_train, y_train)\n",
    "pred_ = gbm_.predict(X_test)\n",
    "mse_ = mean_squared_error(y_test, pred_)"
   ]
  },
  {
   "cell_type": "code",
   "execution_count": 56,
   "id": "51783f6e",
   "metadata": {},
   "outputs": [
    {
     "name": "stdout",
     "output_type": "stream",
     "text": [
      "==== SHOW RESULT ====\n",
      "Our algo' mse : 187005.736, Sklearn algo's mse : 363322.272\n"
     ]
    }
   ],
   "source": [
    "print(\"==== SHOW RESULT ====\")\n",
    "print(\"Our algo' mse : {0}, Sklearn algo's mse : {1}\".format(round(mse,3), round(mse_,3)))"
   ]
  },
  {
   "cell_type": "code",
   "execution_count": 57,
   "id": "63dc5eab",
   "metadata": {},
   "outputs": [
    {
     "name": "stdout",
     "output_type": "stream",
     "text": [
      "The BIC metric of the dataset is\n",
      "1931.2248371507164\n",
      "The AIC metric of the dataset is\n",
      "1920.2451086372635\n"
     ]
    }
   ],
   "source": [
    "from statsmodels.regression.linear_model import OLS\n",
    "from statsmodels.tools import add_constant\n",
    "\n",
    "regr = OLS(y, add_constant(X)).fit()\n",
    "print(\"The BIC metric of the dataset is\")\n",
    "print(regr.bic)\n",
    "print(\"The AIC metric of the dataset is\")\n",
    "print(regr.aic)"
   ]
  }
 ],
 "metadata": {
  "kernelspec": {
   "display_name": "Python 3 (ipykernel)",
   "language": "python",
   "name": "python3"
  },
  "language_info": {
   "codemirror_mode": {
    "name": "ipython",
    "version": 3
   },
   "file_extension": ".py",
   "mimetype": "text/x-python",
   "name": "python",
   "nbconvert_exporter": "python",
   "pygments_lexer": "ipython3",
   "version": "3.9.6"
  }
 },
 "nbformat": 4,
 "nbformat_minor": 5
}
